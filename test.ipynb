{
 "cells": [
  {
   "cell_type": "code",
   "execution_count": 22,
   "id": "d993dd96",
   "metadata": {},
   "outputs": [],
   "source": [
    "import regex as re\n",
    "# pat = regex.compile(r\"\\b[\\p{L}\\p{N}]+(?:[-’'][\\p{L}\\p{N}]+)*\\b\", regex.WORD)"
   ]
  },
  {
   "cell_type": "code",
   "execution_count": 23,
   "id": "b253a93d",
   "metadata": {},
   "outputs": [],
   "source": [
    "pattern = r\"\\b(?:\\w+(?:[-.']\\w+)*)\\b\""
   ]
  },
  {
   "cell_type": "code",
   "execution_count": null,
   "id": "f06003e7",
   "metadata": {},
   "outputs": [],
   "source": [
    "\n",
    "WORD_RE = regex.compile(\n",
    "    r\"\\b(?:\"\n",
    "    r\"[\\p{L}\\p{N}]+\"                       # core\n",
    "    r\"(?:[’'][\\p{L}\\p{N}]+)*\"               # internal apostrophes: AI’s, don't\n",
    "    r\"(?:-(?:[\\p{L}\\p{N}]+(?:[’'][\\p{L}\\p{N}]+)*))*\"  # internal hyphen-minus groups: state-of-the-art\n",
    "    r\"(?:\\.(?=[\\p{N}])[\\p{N}]+)?\"           # optional decimal tail: 3.14\n",
    "    r\")\\b\",\n",
    "    regex.WORD  # Unicode word boundaries (UAX-29-ish), no .replace() needed\n",
    ")\n",
    "\n",
    "return len(WORD_RE.findall(text))\n",
    "\n",
    "\n",
    "    "
   ]
  },
  {
   "cell_type": "code",
   "execution_count": 18,
   "id": "64a72f44",
   "metadata": {},
   "outputs": [],
   "source": [
    "text = \"AI has rapidly transformed industries, societies, and life. Once science fiction, it now powers technologies like virtual assistants and autonomous vehicles, letting computers solve problems, make decisions, perceive visually, recognize speech, and process language—tasks once done by humans. AI is classified as Narrow AI, handling specific tasks like Google Search or facial recognition; General AI, hypothetical systems learning any human task; and Superintelligent AI, machines speculated to surpass humans in all areas. While intelligent machines appeared in ancient myths, AI’s origins trace to the 1950s with Alan Turing’s paper questioning whether machines can think\""
   ]
  },
  {
   "cell_type": "code",
   "execution_count": 24,
   "id": "61d165d9",
   "metadata": {},
   "outputs": [],
   "source": [
    "re.findall(pattern, text)\n",
    "count = len(re.findall(pattern, text))"
   ]
  },
  {
   "cell_type": "code",
   "execution_count": 19,
   "id": "e09dfeda",
   "metadata": {},
   "outputs": [
    {
     "name": "stdout",
     "output_type": "stream",
     "text": [
      "Word count: 95\n"
     ]
    }
   ],
   "source": [
    "print(\"Word count:\", word_count(text))"
   ]
  }
 ],
 "metadata": {
  "kernelspec": {
   "display_name": "sp-env",
   "language": "python",
   "name": "python3"
  },
  "language_info": {
   "codemirror_mode": {
    "name": "ipython",
    "version": 3
   },
   "file_extension": ".py",
   "mimetype": "text/x-python",
   "name": "python",
   "nbconvert_exporter": "python",
   "pygments_lexer": "ipython3",
   "version": "3.10.18"
  }
 },
 "nbformat": 4,
 "nbformat_minor": 5
}
